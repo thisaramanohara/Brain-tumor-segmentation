{
 "cells": [
  {
   "cell_type": "code",
   "execution_count": 1,
   "metadata": {},
   "outputs": [],
   "source": [
    "import joblib\n",
    "\n",
    "model=joblib.load('brain_tumor_segmentation.sav')"
   ]
  },
  {
   "cell_type": "code",
   "execution_count": 2,
   "metadata": {},
   "outputs": [],
   "source": [
    "clusterNumber=4"
   ]
  },
  {
   "cell_type": "code",
   "execution_count": 3,
   "metadata": {},
   "outputs": [],
   "source": [
    "import cv2\n",
    "import os\n",
    "import numpy as np\n",
    "from matplotlib import pyplot as plt"
   ]
  },
  {
   "cell_type": "code",
   "execution_count": null,
   "metadata": {},
   "outputs": [],
   "source": [
    "imgs_names=os.listdir('images')\n",
    "\n",
    "for img_name in imgs_names:\n",
    "    img_path=os.path.join('images',img_name)\n",
    "    original_img=cv2.imread(img_path)\n",
    "    img=cv2.imread(img_path,0)\n",
    "    height,width=img.shape\n",
    "    flattenImg=img.reshape(height*width,1)\n",
    "    \n",
    "    predicted_labels=model.predict(flattenImg)\n",
    "    labelsToArray=predicted_labels.reshape(height,width)\n",
    "    \n",
    "    mask=(labelsToArray==clusterNumber)\n",
    "    \n",
    "    extracted_tumor=np.array((mask*255),dtype=np.uint8)\n",
    "    kernel=np.ones((5,5),np.uint8)\n",
    "    extracted_tumor=cv2.erode(extracted_tumor,kernel,iterations=1)\n",
    "    contours,hierarchy=cv2.findContours(extracted_tumor,cv2.RETR_TREE,cv2.CHAIN_APPROX_SIMPLE)\n",
    "    \n",
    "    for contour in contours:\n",
    "        area=cv2.contourArea(contour)\n",
    "        if(area>1000):\n",
    "            cv2.drawContours(original_img,[contour],-1,(0,255,255),3)\n",
    "            x,y,w,h = cv2.boundingRect(contour)\n",
    "            cv2.rectangle(original_img,(x,y),(x+w,y+h),(0,255,0),2)\n",
    "            cv2.rectangle(original_img,(x,y),(x+w,y-40),(0,255,0),-1)\n",
    "            cv2.putText(original_img,\"tumor\",(x+10,y-30),cv2.FONT_HERSHEY_SIMPLEX,1,(255,255,255),2)\n",
    "    cv2.imshow('WINDOW',original_img)\n",
    "    cv2.waitKey(2000)\n",
    "    cv2.destroyAllWindows()\n",
    "    \n",
    "    "
   ]
  }
 ],
 "metadata": {
  "kernelspec": {
   "display_name": "Python 3",
   "language": "python",
   "name": "python3"
  },
  "language_info": {
   "codemirror_mode": {
    "name": "ipython",
    "version": 3
   },
   "file_extension": ".py",
   "mimetype": "text/x-python",
   "name": "python",
   "nbconvert_exporter": "python",
   "pygments_lexer": "ipython3",
   "version": "3.7.9"
  }
 },
 "nbformat": 4,
 "nbformat_minor": 4
}
